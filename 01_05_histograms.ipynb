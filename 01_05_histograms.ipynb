{
  "cells": [
    {
      "cell_type": "markdown",
      "metadata": {
        "id": "view-in-github",
        "colab_type": "text"
      },
      "source": [
        "<a href=\"https://colab.research.google.com/github/Davron030901/Matplotlib_and_Seaborn/blob/main/01_05_histograms.ipynb\" target=\"_parent\"><img src=\"https://colab.research.google.com/assets/colab-badge.svg\" alt=\"Open In Colab\"/></a>"
      ]
    },
    {
      "cell_type": "code",
      "execution_count": null,
      "metadata": {
        "id": "CMqIoPztblYd"
      },
      "outputs": [],
      "source": [
        "# import relevant libraries and modules\n",
        "import numpy as np\n",
        "import pandas as pd\n",
        "import matplotlib.pyplot as plt"
      ]
    },
    {
      "cell_type": "code",
      "source": [
        "np.random.normal(50, 15, 400)"
      ],
      "metadata": {
        "colab": {
          "base_uri": "https://localhost:8080/"
        },
        "id": "L_ddQfHEbxKJ",
        "outputId": "e8d2b133-2cce-4af5-ddc4-7b13f3a3a66d"
      },
      "execution_count": null,
      "outputs": [
        {
          "output_type": "execute_result",
          "data": {
            "text/plain": [
              "array([58.84175052, 49.93071567, 87.98145743, 50.95523694, 50.10911058,\n",
              "       68.92959448, 34.03050863, 64.4071795 , 37.71653146, 50.19217939,\n",
              "       22.64180461, 36.77979741, 44.84937377, 36.64237246, 36.79802289,\n",
              "       48.57536858, 54.67595903, 51.05987426, 58.32035756, 83.49391419,\n",
              "       43.43437619, 67.15515625, 49.17508949, 44.1392733 , 44.42278892,\n",
              "       28.4134197 , 29.80931691, 69.68818585, 46.56931105, 44.14799383,\n",
              "       65.20173906, 32.91811655, 68.35150072, 55.70847415, 59.33249896,\n",
              "       43.77672777, 35.43433049, 61.30232134, 77.09405253, 38.94536292,\n",
              "       56.25350558, 41.72110988, 62.29841532, 39.39176511, 38.58278502,\n",
              "       21.72796109, 66.16200967, 18.0862629 , 72.11011363, 18.77760653,\n",
              "       61.45953632, 40.02099699, 63.67311822, 41.30088387, 39.81826619,\n",
              "       54.52597509, 40.71058598, 64.36775798, 38.78750068, 64.3510465 ,\n",
              "       56.59929435, 69.87053095, 29.1676492 , 28.32592623, 51.84173399,\n",
              "       48.30883419, 37.53965147, 68.19109369, 50.02361618, 58.06657792,\n",
              "       83.14354956, 90.53476798, 47.06849848, 60.47044399, 48.43292473,\n",
              "       53.40547438, 64.72435259, 42.73075241, 65.47027602, 34.03285446,\n",
              "       31.8412454 , 36.845347  , 78.90607693, 71.45914235, 39.3441269 ,\n",
              "       50.4112559 , 48.24136638, 39.51568672, 49.80226218, 70.76477752,\n",
              "       55.55759512, 37.82281356, 51.03631413, 65.11304645, 35.71641037,\n",
              "       40.6474437 , 56.35306135, 65.24363458, 26.09654776, 46.09358921,\n",
              "       79.11020939, 28.3299857 , 56.44909836, 54.97379447, 46.8412488 ,\n",
              "       47.09785712, 34.68243741, 39.86116046, 46.52739246, 16.95501553,\n",
              "       90.27116583, 65.28482104, 59.78794079, 37.15535263, 68.51140528,\n",
              "       21.3374261 , 45.74037694, 58.45326333, 43.88005326, 65.57775055,\n",
              "       23.76105667, 53.72747247, 46.21099799, 51.22692137, 64.4132821 ,\n",
              "       36.29404148, 67.23646801, 42.67346846, 46.68752672, 53.62715613,\n",
              "       16.20608438, 52.09497002, 40.39800574, 61.59118868, 68.28630065,\n",
              "       38.14640487, 60.29676187, 48.42566253, 25.52095284, 18.43635291,\n",
              "       61.78120842, 60.57077673, 69.53550763, 57.64754869, 58.66603347,\n",
              "       50.48863665, 47.22964092, 34.09225315, 45.56640989, 50.17768907,\n",
              "       52.24970194, 58.56705535, 50.46006693, 65.63974813, 54.57949412,\n",
              "       36.51054869, 68.24500474, 35.81888512, 58.11096448, 55.11095986,\n",
              "       40.46478   , 74.89878277, 50.6895129 , 22.56177548, 65.20550448,\n",
              "       35.03170646, 60.8535797 , 62.81197933, 49.85658562, 51.88643557,\n",
              "       22.50083461, 79.59178261,  1.112406  , 68.05563286, 47.93921428,\n",
              "       62.89812701, 40.29710191, 57.36213844, 79.86285881, 53.92650192,\n",
              "       57.28516224, 45.97817572, 50.24431162, 17.18557129, 58.97657821,\n",
              "       52.82634165, 61.05979732, 48.27484891, 55.60978091, 67.57054191,\n",
              "       66.06790991, 25.05184709, 60.39770237, 72.40614641, 26.27494045,\n",
              "       61.95121715, 34.76220305, 44.51597018, 60.01740301, 70.90396231,\n",
              "       76.748541  , 53.66534768, 63.77364221, 60.70079715, 32.31016564,\n",
              "       84.70161367, 34.58361178, 48.58937426, 45.19611884, 42.54344074,\n",
              "       53.53724688, 74.16492406, 42.2620946 , 27.00025164, 53.54204354,\n",
              "       16.27551019, 34.30630044, 70.7561369 , 59.64205574, 35.05566643,\n",
              "       47.51153032, 51.31352442, 65.17730836, 40.41761575, 54.15508756,\n",
              "       57.52301392, 35.10518445, 46.16909028, 65.69343251, 43.87105335,\n",
              "       28.17034912, 33.861535  , 60.86682218, 35.2165158 , 46.183962  ,\n",
              "       54.6868682 , 52.61075202, 51.97968064, 33.81812973, 54.80323255,\n",
              "       61.86813985, 25.80541362, 44.67677846, 35.00803763, 50.87830865,\n",
              "       72.64620824, 19.47192241, 53.6013013 , 57.36281225, 57.38101305,\n",
              "       48.41759168, 60.65432646, 70.96785595, 31.94440873, 19.71915511,\n",
              "       48.08692547, 59.80204374, 61.20199039, 49.95196706, 56.97191243,\n",
              "       31.61239601, 67.99098289, 54.11178076, 60.37983532, 46.21038786,\n",
              "       56.29933537, 61.32298164, 44.54643651, 64.24461901, 34.58455012,\n",
              "       39.0704989 , 32.67378828, 38.64556215, 31.28781764, 43.73666135,\n",
              "       52.32365975, 74.06399528, 44.9586898 , 58.51710293, 63.37254267,\n",
              "       67.55198059, 29.93627487, 66.68732976, 40.11492797, 41.43734893,\n",
              "       33.77111401, 68.69037721, 42.54106761, 56.98417268, 59.1236301 ,\n",
              "       71.26214547, 50.75650479, 27.90423461, 32.71412568, 65.53863978,\n",
              "       43.67957999, 60.97598638, 25.02320802, 39.45369313, 41.8002676 ,\n",
              "       58.69972861, 58.94557809, 74.61620615, 60.75511944, 53.06059847,\n",
              "       39.33567664, 49.24584723, 60.07757793, 62.43135539, 62.08607535,\n",
              "       39.32122751, 37.59190882, 50.22490644, 28.37836984, 74.91643072,\n",
              "       62.13566166, 58.19371923, 67.23969105, 28.53612453, 74.00815358,\n",
              "       58.74740519, 67.86970912, 68.5680852 , 75.19741672, 48.48325059,\n",
              "       32.98517872, 26.52338634, 46.61532967, 55.23787615, 61.26794638,\n",
              "       64.54605235, 73.07289751, 26.7609789 , 66.10434296, 74.25575099,\n",
              "       79.46572146, 22.98289608, 72.47588014, 28.06874729, 55.16517896,\n",
              "       48.73379695, 45.71481392, 40.07164846, 35.79910303, 21.2664402 ,\n",
              "       52.58191544, 65.41990585, 37.19097426, 41.27126674, 74.70841014,\n",
              "       64.1606847 , 55.90386944, 54.20012885, 64.98518962, 59.23081302,\n",
              "       49.07823737, 23.50265795, 70.88279306, 33.52671939, 58.86658197,\n",
              "       37.07240873, 45.03430033, 62.10760515, 38.13707682, 30.21353404,\n",
              "       22.80126059, 36.9725317 , 52.67418203, 41.15687905, 42.92466952,\n",
              "       50.43968541, 43.57199248, 34.4678011 , 56.39565745, 69.81533839,\n",
              "       25.91043289, 22.00030731, 32.24176491, 43.2591876 , 57.65628081,\n",
              "       64.49115969, 51.56022136, 67.57642216, 41.66977967, 55.40930348,\n",
              "       33.63465545, 51.59830162, 61.19406433, 34.59058146, 72.77764902,\n",
              "       51.63078001, 47.504853  , 51.35172534, 38.99968791, 64.60087955,\n",
              "       63.49554828, 35.45557221, 74.0022203 , 42.5273015 , 59.30814345])"
            ]
          },
          "metadata": {},
          "execution_count": 5
        }
      ]
    },
    {
      "cell_type": "code",
      "execution_count": null,
      "metadata": {
        "id": "0qdjVaNoblYf"
      },
      "outputs": [],
      "source": [
        "# create a pandas series containing students' grades on Exam #1 in a particular course\n",
        "exam1_grades = pd.Series(np.random.normal(50, 15, 400))"
      ]
    },
    {
      "cell_type": "code",
      "execution_count": null,
      "metadata": {
        "colab": {
          "base_uri": "https://localhost:8080/",
          "height": 241
        },
        "id": "gfHJ5vJ-blYh",
        "outputId": "cf9b9456-d564-4a0c-978a-6cc7f61ed42b"
      },
      "outputs": [
        {
          "output_type": "execute_result",
          "data": {
            "text/plain": [
              "0    42.072532\n",
              "1    58.932175\n",
              "2    53.175984\n",
              "3    75.244676\n",
              "4    18.075240\n",
              "dtype: float64"
            ],
            "text/html": [
              "<div>\n",
              "<style scoped>\n",
              "    .dataframe tbody tr th:only-of-type {\n",
              "        vertical-align: middle;\n",
              "    }\n",
              "\n",
              "    .dataframe tbody tr th {\n",
              "        vertical-align: top;\n",
              "    }\n",
              "\n",
              "    .dataframe thead th {\n",
              "        text-align: right;\n",
              "    }\n",
              "</style>\n",
              "<table border=\"1\" class=\"dataframe\">\n",
              "  <thead>\n",
              "    <tr style=\"text-align: right;\">\n",
              "      <th></th>\n",
              "      <th>0</th>\n",
              "    </tr>\n",
              "  </thead>\n",
              "  <tbody>\n",
              "    <tr>\n",
              "      <th>0</th>\n",
              "      <td>42.072532</td>\n",
              "    </tr>\n",
              "    <tr>\n",
              "      <th>1</th>\n",
              "      <td>58.932175</td>\n",
              "    </tr>\n",
              "    <tr>\n",
              "      <th>2</th>\n",
              "      <td>53.175984</td>\n",
              "    </tr>\n",
              "    <tr>\n",
              "      <th>3</th>\n",
              "      <td>75.244676</td>\n",
              "    </tr>\n",
              "    <tr>\n",
              "      <th>4</th>\n",
              "      <td>18.075240</td>\n",
              "    </tr>\n",
              "  </tbody>\n",
              "</table>\n",
              "</div><br><label><b>dtype:</b> float64</label>"
            ]
          },
          "metadata": {},
          "execution_count": 7
        }
      ],
      "source": [
        "# display first few values in exam1_grades\n",
        "exam1_grades.head()"
      ]
    },
    {
      "cell_type": "code",
      "execution_count": null,
      "metadata": {
        "colab": {
          "base_uri": "https://localhost:8080/",
          "height": 472
        },
        "id": "tJKGHhaAblYi",
        "outputId": "28d2c145-15c3-4499-9aa7-573e44edf86a"
      },
      "outputs": [
        {
          "output_type": "display_data",
          "data": {
            "text/plain": [
              "<Figure size 640x480 with 1 Axes>"
            ],
            "image/png": "[encoded data removed]"
          },
          "metadata": {}
        }
      ],
      "source": [
        "# create a histogram --- visualize exam1_grades\n",
        "plt.hist(exam1_grades)\n",
        "plt.xlabel('Grade (%)')\n",
        "plt.ylabel('Count')\n",
        "plt.title('Distribution of Grades for Exam #1')\n",
        "plt.show()"
      ]
    }
  ],
  "metadata": {
    "kernelspec": {
      "display_name": "Python 3",
      "language": "python",
      "name": "python3"
    },
    "language_info": {
      "codemirror_mode": {
        "name": "ipython",
        "version": 3
      },
      "file_extension": ".py",
      "mimetype": "text/x-python",
      "name": "python",
      "nbconvert_exporter": "python",
      "pygments_lexer": "ipython3",
      "version": "3.6.9"
    },
    "colab": {
      "provenance": [],
      "include_colab_link": true
    }
  },
  "nbformat": 4,
  "nbformat_minor": 0
}